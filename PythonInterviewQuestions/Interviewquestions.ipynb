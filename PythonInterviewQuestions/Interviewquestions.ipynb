{
 "cells": [
  {
   "cell_type": "markdown",
   "metadata": {},
   "source": [
    "## Python data strucutures\n",
    "##### 1) Given a list, write a Python program to swap first and last element of the list.\n",
    "\n",
    "Examples: \n",
    "\n",
    "Input : [12, 35, 9, 56, 24]\n",
    "Output : [24, 35, 9, 56, 12]\n",
    "\n",
    "Input : [1, 2, 3]\n",
    "Output : [3, 2, 1]"
   ]
  },
  {
   "cell_type": "code",
   "execution_count": 1,
   "metadata": {},
   "outputs": [
    {
     "name": "stdout",
     "output_type": "stream",
     "text": [
      "[24, 35, 9, 56, 12]\n"
     ]
    }
   ],
   "source": [
    "# Python3 program to swap first\n",
    "# and last element of a list\n",
    " \n",
    "# Swap function\n",
    "def swapList(newList):\n",
    "    size = len(newList)\n",
    "     \n",
    "    # Swapping\n",
    "    temp = newList[0]\n",
    "    newList[0] = newList[size - 1]\n",
    "    newList[size - 1] = temp\n",
    "     \n",
    "    return newList\n",
    "     \n",
    "# Driver code\n",
    "newList = [12, 35, 9, 56, 24]\n",
    " \n",
    "print(swapList(newList))"
   ]
  },
  {
   "cell_type": "markdown",
   "metadata": {},
   "source": [
    "Write a program in Python to check if a number is prime."
   ]
  },
  {
   "cell_type": "code",
   "execution_count": 2,
   "metadata": {},
   "outputs": [
    {
     "name": "stdout",
     "output_type": "stream",
     "text": [
      "not prime\n"
     ]
    }
   ],
   "source": [
    "a=int(input(\"enter number\"))\n",
    "if a==1:\n",
    "    for x in range(2,a):\n",
    "        if(a%x)==0:\n",
    "            print(\"not prime\")\n",
    "        break\n",
    "    else:\n",
    "        print(\"Prime\")\n",
    "else:\n",
    "    print(\"not prime\")\n"
   ]
  },
  {
   "cell_type": "markdown",
   "metadata": {},
   "source": [
    "##### 2) Reversing a List in Python without using inbuilt functions"
   ]
  },
  {
   "cell_type": "code",
   "execution_count": 2,
   "metadata": {},
   "outputs": [
    {
     "name": "stdout",
     "output_type": "stream",
     "text": [
      "Original list:  [1, 2, 3, 4, 5]\n",
      "Reversed list:  [5, 4, 3, 2, 1]\n"
     ]
    }
   ],
   "source": [
    "#Python program to reverse an array\n",
    "def list_reverse(arr,size):\n",
    " \n",
    "    #if only one element present, then return the array\n",
    "    if(size==1):\n",
    "        return arr\n",
    "     \n",
    "    #if only two elements present, then swap both the numbers.\n",
    "    elif(size==2):\n",
    "        arr[0],arr[1],=arr[1],arr[0]\n",
    "        return arr\n",
    "     \n",
    "    #if more than two elements presents, then swap first and last numbers.\n",
    "    else:\n",
    "        i=0\n",
    "        while(i<size//2):\n",
    " \n",
    "    #swap present and preceding numbers at time and jump to second element after swap\n",
    "            arr[i],arr[size-i-1]=arr[size-i-1],arr[i]\n",
    "       \n",
    "    #skip if present and preceding numbers indexes are same\n",
    "            if((i!=i+1 and size-i-1 != size-i-2) and (i!=size-i-2 and size-i-1!=i+1)):\n",
    "                arr[i+1],arr[size-i-2]=arr[size-i-2],arr[i+1]\n",
    "            i+=2\n",
    "        return arr\n",
    " \n",
    "arr=[1,2,3,4,5]\n",
    "size=5\n",
    "print('Original list: ',arr)\n",
    "print(\"Reversed list: \",list_reverse(arr,size))"
   ]
  },
  {
   "cell_type": "markdown",
   "metadata": {},
   "source": [
    "#### 3) Program to print duplicates from a list of integers"
   ]
  },
  {
   "cell_type": "code",
   "execution_count": 3,
   "metadata": {},
   "outputs": [
    {
     "name": "stdout",
     "output_type": "stream",
     "text": [
      "[20, 30, -20, 60]\n"
     ]
    }
   ],
   "source": [
    "\n",
    "# Python program to print\n",
    "# duplicates from a list\n",
    "# of integers\n",
    "def Repeat(x):\n",
    "    _size = len(x)\n",
    "    repeated = []\n",
    "    for i in range(_size):\n",
    "        k = i + 1\n",
    "        for j in range(k, _size):\n",
    "            if x[i] == x[j] and x[i] not in repeated:\n",
    "                repeated.append(x[i])\n",
    "    return repeated\n",
    " \n",
    "# Driver Code\n",
    "list1 = [10, 20, 30, 20, 20, 30, 40,\n",
    "         50, -20, 60, 60, -20, -20]\n",
    "print (Repeat(list1))"
   ]
  },
  {
   "cell_type": "markdown",
   "metadata": {},
   "source": [
    "4) Python – Words Frequency in String Shorthands"
   ]
  },
  {
   "cell_type": "code",
   "execution_count": 4,
   "metadata": {},
   "outputs": [
    {
     "name": "stdout",
     "output_type": "stream",
     "text": [
      "The original string is : Gfg is best . Geeks are good and Geeks like Gfg\n",
      "The words frequency : {'Gfg': 2, 'is': 1, 'best': 1, '.': 1, 'Geeks': 2, 'are': 1, 'good': 1, 'and': 1, 'like': 1}\n"
     ]
    }
   ],
   "source": [
    "\n",
    "# Python3 code to demonstrate working of\n",
    "# Words Frequency in String Shorthands\n",
    "# Using dictionary comprehension + count() + split()\n",
    " \n",
    "# Initializing string\n",
    "test_str = 'Gfg is best . Geeks are good and Geeks like Gfg'\n",
    " \n",
    "# Printing original string\n",
    "print(\"The original string is : \" + str(test_str))\n",
    " \n",
    "# Words Frequency in String Shorthands\n",
    "# Using dictionary comprehension + count() + split()\n",
    "res = {key: test_str.count(key) for key in test_str.split()}\n",
    " \n",
    "# Printing result\n",
    "print(\"The words frequency : \" + str(res))"
   ]
  },
  {
   "cell_type": "markdown",
   "metadata": {},
   "source": [
    "5) Python Program to Accept the Strings Which Contains all Vowels"
   ]
  },
  {
   "cell_type": "code",
   "execution_count": 23,
   "metadata": {},
   "outputs": [
    {
     "name": "stdout",
     "output_type": "stream",
     "text": [
      "Accepted\n"
     ]
    }
   ],
   "source": [
    "# Python program to accept the strings\n",
    "# which contains all the vowels\n",
    " \n",
    "# Function for check if string\n",
    "# is accepted or not\n",
    "def check(string) :\n",
    " \n",
    "    string = string.lower()\n",
    " \n",
    "    # set() function convert \"aeiou\"\n",
    "    # string into set of characters\n",
    "    # i.e.vowels = {'a', 'e', 'i', 'o', 'u'}\n",
    "    vowels = set(\"aeiou\")\n",
    " \n",
    "    # set() function convert empty\n",
    "    # dictionary into empty set\n",
    "    s = set({})\n",
    " \n",
    "    # looping through each\n",
    "    # character of the string\n",
    "    for char in string :\n",
    " \n",
    "        # Check for the character is present inside\n",
    "        # the vowels set or not. If present, then\n",
    "        # add into the set s by using add method\n",
    "        if char in vowels :\n",
    "            s.add(char)\n",
    "        else:\n",
    "            pass\n",
    "             \n",
    "    # check the length of set s equal to length\n",
    "    # of vowels set or not. If equal, string is \n",
    "    # accepted otherwise not\n",
    "    if len(s) == len(vowels) :\n",
    "        print(\"Accepted\")\n",
    "    else :\n",
    "        print(\"Not Accepted\")\n",
    " \n",
    " \n",
    "# Driver code\n",
    "if __name__ == \"__main__\" :\n",
    "     \n",
    "    string = \"SEEquoiaL\"\n",
    " \n",
    "    # calling function\n",
    "    check(string)"
   ]
  },
  {
   "cell_type": "markdown",
   "metadata": {},
   "source": [
    "6) Python – Replace duplicate Occurrence in String"
   ]
  },
  {
   "cell_type": "code",
   "execution_count": 6,
   "metadata": {},
   "outputs": [
    {
     "name": "stdout",
     "output_type": "stream",
     "text": [
      "The original string is : Gfg is best . Gfg also has Classes now.                 Classes help understand better . \n",
      "The string after replacing : Gfg is best . It also has Classes now.                 They help understand better . \n"
     ]
    }
   ],
   "source": [
    "\n",
    "# Python3 code to demonstrate working of\n",
    "# Replace duplicate Occurrence in String\n",
    "# Using split() + enumerate() + loop\n",
    " \n",
    "# initializing string\n",
    "test_str = 'Gfg is best . Gfg also has Classes now. \\\n",
    "                Classes help understand better . '\n",
    " \n",
    "# printing original string\n",
    "print(\"The original string is : \" + str(test_str))\n",
    " \n",
    "# initializing replace mapping\n",
    "repl_dict = {'Gfg' : 'It', 'Classes' : 'They' }\n",
    " \n",
    "# Replace duplicate Occurrence in String\n",
    "# Using split() + enumerate() + loop\n",
    "test_list = test_str.split(' ')\n",
    "res = set()\n",
    "for idx, ele in enumerate(test_list):\n",
    "    if ele in repl_dict:\n",
    "        if ele in res:\n",
    "            test_list[idx] = repl_dict[ele]\n",
    "        else:\n",
    "            res.add(ele)\n",
    "res = ' '.join(test_list)\n",
    " \n",
    "# printing result\n",
    "print(\"The string after replacing : \" + str(res))"
   ]
  },
  {
   "cell_type": "markdown",
   "metadata": {},
   "source": [
    "7. Python – Find all duplicate characters in string"
   ]
  },
  {
   "cell_type": "code",
   "execution_count": 22,
   "metadata": {},
   "outputs": [
    {
     "name": "stdout",
     "output_type": "stream",
     "text": [
      "['g', 'e', 'k', 's']\n"
     ]
    }
   ],
   "source": [
    "def duplicate_characters(string):\n",
    "    # Create an empty dictionary\n",
    "    chars = {}\n",
    " \n",
    "    # Iterate through each character in the string\n",
    "    for char in string:\n",
    "        # If the character is not in the dictionary, add it\n",
    "        if char not in chars:\n",
    "            chars[char] = 1\n",
    "        else:\n",
    "            # If the character is already in the dictionary, increment the count\n",
    "            chars[char] += 1\n",
    " \n",
    "    # Create a list to store the duplicate characters\n",
    "    duplicates = []\n",
    " \n",
    "    # Iterate through the dictionary to find characters with count greater than 1\n",
    "    for char, count in chars.items():\n",
    "        if count > 1:\n",
    "            duplicates.append(char)\n",
    " \n",
    "    return duplicates\n",
    " \n",
    "# Test cases\n",
    "print(duplicate_characters(\"geeksforgeeks\"))"
   ]
  },
  {
   "cell_type": "markdown",
   "metadata": {},
   "source": [
    "8) Number of lines in a text file"
   ]
  },
  {
   "cell_type": "code",
   "execution_count": 11,
   "metadata": {},
   "outputs": [
    {
     "name": "stdout",
     "output_type": "stream",
     "text": [
      "Total Number of lines: 3\n"
     ]
    }
   ],
   "source": [
    "with open(r\"myfile.txt\", 'r') as fp:\n",
    "    lines = len(fp.readlines())\n",
    "    print('Total Number of lines:', lines)"
   ]
  },
  {
   "cell_type": "markdown",
   "metadata": {},
   "source": [
    "####  9) Program to remove lines starting with any prefix using Python"
   ]
  },
  {
   "cell_type": "code",
   "execution_count": 12,
   "metadata": {},
   "outputs": [
    {
     "name": "stdout",
     "output_type": "stream",
     "text": [
      "what a wonderful day\n",
      "\n"
     ]
    }
   ],
   "source": [
    "file1 = open('myfile.txt','r')\n",
    " \n",
    "# defining object file2 to open GeeksforGeeksUpdated file in write mode\n",
    "file2 = open('myoutputfile.txt','w')\n",
    " \n",
    "# reading each line from original text file\n",
    "for line in file1.readlines():\n",
    "   \n",
    "     # reading all lines that do not begin with \"TextGenerator\"\n",
    "    if not (line.startswith('this')):\n",
    "       \n",
    "        # printing those lines\n",
    "        print(line)\n",
    "         \n",
    "        # storing only those lines that\n",
    "        # do not begin with \"TextGenerator\"\n",
    "        file2.write(line)\n",
    " \n",
    "# close and save the files\n",
    "file2.close()\n",
    "file1.close()"
   ]
  },
  {
   "cell_type": "markdown",
   "metadata": {},
   "source": [
    "10) Read a List of Dictionary from Text Files in Python"
   ]
  },
  {
   "cell_type": "code",
   "execution_count": 14,
   "metadata": {},
   "outputs": [
    {
     "name": "stdout",
     "output_type": "stream",
     "text": [
      "{'geek': '10', 'geeky': 'True'}\n",
      "{'GeeksforGeeks': 'Education', 'geekgod': '101.0', '3': 'gfg'}\n",
      "{'supergeek': '5'}\n"
     ]
    }
   ],
   "source": [
    "\n",
    "def parse(d):\n",
    "    dictionary = dict()\n",
    "    # Removes curly braces and splits the pairs into a list\n",
    "    pairs = d.strip('{}').split(', ')\n",
    "    for i in pairs:\n",
    "        pair = i.split(': ')\n",
    "        # Other symbols from the key-value pair should be stripped.\n",
    "        dictionary[pair[0].strip('\\'\\'\\\"\\\"')] = pair[1].strip('\\'\\'\\\"\\\"')\n",
    "    return dictionary\n",
    "try:\n",
    "    geeky_file = open('textindictionary.txt', 'rt')\n",
    "    lines = geeky_file.read().split('\\n')\n",
    "    for l in lines:\n",
    "        if l != '':\n",
    "            dictionary = parse(l)\n",
    "            print(dictionary)\n",
    "    geeky_file.close()\n",
    "except:\n",
    "    print(\"Something unexpected occurred!\")"
   ]
  },
  {
   "cell_type": "markdown",
   "metadata": {},
   "source": [
    "11) Python program to Reverse a single line of a text file"
   ]
  },
  {
   "cell_type": "code",
   "execution_count": 21,
   "metadata": {},
   "outputs": [],
   "source": [
    "# Open file in read mode\n",
    "f = open('GFG.txt', 'r')\n",
    " \n",
    "# Read the content of the\n",
    "# file and store it in a list\n",
    "lines = f.readlines()\n",
    "     \n",
    "# Close file\n",
    "f.close()\n",
    " \n",
    "# User's choice\n",
    "choice = 1\n",
    " \n",
    "# Split the line into words\n",
    "line = lines[choice].split()\n",
    " \n",
    "# line is reversed\n",
    "Reversed = \" \".join(line[::-1])\n",
    " \n",
    "# Updating the content of the\n",
    "# file\n",
    "lines.pop(choice)\n",
    "lines.insert(choice, Reversed)\n",
    " \n",
    "# Open file in write mode\n",
    "u = open('reverse.txt', 'w')\n",
    " \n",
    "# Write the new content in file\n",
    "# and note, it is overwritten\n",
    "u.writelines(lines)\n",
    "u.close()"
   ]
  },
  {
   "cell_type": "markdown",
   "metadata": {},
   "source": [
    "12) Determine whether two strings are anagram (have same characters in the string)"
   ]
  },
  {
   "cell_type": "code",
   "execution_count": 35,
   "metadata": {},
   "outputs": [
    {
     "name": "stdout",
     "output_type": "stream",
     "text": [
      "those strings are no anagrams\n"
     ]
    }
   ],
   "source": [
    "def characterCounts(s):\n",
    "    counts = {}\n",
    "    for ch in s:\n",
    "        if ch in counts:\n",
    "            counts[ch] = counts[ch] + 1\n",
    "        else:\n",
    "            counts[ch] = 1\n",
    "    return counts\n",
    "\n",
    "def main():\n",
    "    s1 = input(\"Enter the first string:\")\n",
    "    s2 = input(\"Enter the second string:\")\n",
    "    counts1 = characterCounts(s1)\n",
    "    counts2 = characterCounts(s2)\n",
    "\n",
    "    if counts1 == counts2:\n",
    "        print('those strings are anagrams')\n",
    "\n",
    "    else:\n",
    "        print('those strings are no anagrams')\n",
    "main()"
   ]
  },
  {
   "cell_type": "markdown",
   "metadata": {},
   "source": [
    "## Python Pandas\n",
    "\n",
    "#### 1) create a dataframe using a list"
   ]
  },
  {
   "cell_type": "code",
   "execution_count": 36,
   "metadata": {},
   "outputs": [
    {
     "name": "stdout",
     "output_type": "stream",
     "text": [
      "        0\n",
      "0  Python\n",
      "1  Pandas\n"
     ]
    }
   ],
   "source": [
    "import pandas as pd    \n",
    "# a list of strings    \n",
    "a = ['Python', 'Pandas']    \n",
    "# Calling DataFrame constructor on list    \n",
    "info = pd.DataFrame(a)    \n",
    "print(info)    "
   ]
  },
  {
   "cell_type": "markdown",
   "metadata": {},
   "source": [
    "2) How will you create a series from dict in Pandas?"
   ]
  },
  {
   "cell_type": "code",
   "execution_count": 37,
   "metadata": {},
   "outputs": [
    {
     "name": "stdout",
     "output_type": "stream",
     "text": [
      "x    0.0\n",
      "y    1.0\n",
      "z    2.0\n",
      "dtype: float64\n"
     ]
    }
   ],
   "source": [
    "import pandas as pd    \n",
    "import numpy as np    \n",
    "info = {'x' : 0., 'y' : 1., 'z' : 2.}    \n",
    "a = pd.Series(info)    \n",
    "print (a)  "
   ]
  },
  {
   "cell_type": "markdown",
   "metadata": {},
   "source": [
    "#### 3) Get unique values from a dataframe"
   ]
  },
  {
   "cell_type": "code",
   "execution_count": 39,
   "metadata": {},
   "outputs": [
    {
     "name": "stdout",
     "output_type": "stream",
     "text": [
      "       country  year         pop continent  lifeExp   gdpPercap\n",
      "0  Afghanistan  1952   8425333.0      Asia   28.801  779.445314\n",
      "1  Afghanistan  1957   9240934.0      Asia   30.332  820.853030\n",
      "2  Afghanistan  1962  10267083.0      Asia   31.997  853.100710\n",
      "3  Afghanistan  1967  11537966.0      Asia   34.020  836.197138\n",
      "4  Afghanistan  1972  13079460.0      Asia   36.088  739.981106\n",
      "['Asia' 'Europe' 'Africa' 'Americas' 'Oceania']\n"
     ]
    }
   ],
   "source": [
    "# import pandas as pd\n",
    "import pandas as pd\n",
    "  \n",
    "gapminder_csv_url ='http://bit.ly/2cLzoxH'\n",
    "# load the data with pd.read_csv\n",
    "record = pd.read_csv(gapminder_csv_url)\n",
    "print(record.head())\n",
    "  \n",
    "print(record['continent'].unique())"
   ]
  },
  {
   "cell_type": "markdown",
   "metadata": {},
   "source": [
    "#### 4) Drop multiple columns in pandas"
   ]
  },
  {
   "cell_type": "code",
   "execution_count": 42,
   "metadata": {},
   "outputs": [
    {
     "data": {
      "text/html": [
       "<div>\n",
       "<style scoped>\n",
       "    .dataframe tbody tr th:only-of-type {\n",
       "        vertical-align: middle;\n",
       "    }\n",
       "\n",
       "    .dataframe tbody tr th {\n",
       "        vertical-align: top;\n",
       "    }\n",
       "\n",
       "    .dataframe thead th {\n",
       "        text-align: right;\n",
       "    }\n",
       "</style>\n",
       "<table border=\"1\" class=\"dataframe\">\n",
       "  <thead>\n",
       "    <tr style=\"text-align: right;\">\n",
       "      <th></th>\n",
       "      <th>A</th>\n",
       "      <th>B</th>\n",
       "      <th>E</th>\n",
       "    </tr>\n",
       "  </thead>\n",
       "  <tbody>\n",
       "    <tr>\n",
       "      <th>0</th>\n",
       "      <td>A1</td>\n",
       "      <td>B1</td>\n",
       "      <td>E1</td>\n",
       "    </tr>\n",
       "    <tr>\n",
       "      <th>1</th>\n",
       "      <td>A2</td>\n",
       "      <td>B2</td>\n",
       "      <td>E2</td>\n",
       "    </tr>\n",
       "    <tr>\n",
       "      <th>2</th>\n",
       "      <td>A3</td>\n",
       "      <td>B3</td>\n",
       "      <td>E3</td>\n",
       "    </tr>\n",
       "    <tr>\n",
       "      <th>3</th>\n",
       "      <td>A4</td>\n",
       "      <td>B4</td>\n",
       "      <td>E4</td>\n",
       "    </tr>\n",
       "    <tr>\n",
       "      <th>4</th>\n",
       "      <td>A5</td>\n",
       "      <td>B5</td>\n",
       "      <td>E5</td>\n",
       "    </tr>\n",
       "  </tbody>\n",
       "</table>\n",
       "</div>"
      ],
      "text/plain": [
       "    A   B   E\n",
       "0  A1  B1  E1\n",
       "1  A2  B2  E2\n",
       "2  A3  B3  E3\n",
       "3  A4  B4  E4\n",
       "4  A5  B5  E5"
      ]
     },
     "execution_count": 42,
     "metadata": {},
     "output_type": "execute_result"
    }
   ],
   "source": [
    "\n",
    "# Import pandas package\n",
    "import pandas as pd\n",
    "  \n",
    "# create a dictionary with five fields each\n",
    "data = {\n",
    "    'A': ['A1', 'A2', 'A3', 'A4', 'A5'],\n",
    "    'B': ['B1', 'B2', 'B3', 'B4', 'B5'],\n",
    "    'C': ['C1', 'C2', 'C3', 'C4', 'C5'],\n",
    "    'D': ['D1', 'D2', 'D3', 'D4', 'D5'],\n",
    "    'E': ['E1', 'E2', 'E3', 'E4', 'E5']}\n",
    "  \n",
    "# Convert the dictionary into DataFrame\n",
    "df = pd.DataFrame(data)\n",
    "  \n",
    "# Remove two columns name is 'C' and 'D'\n",
    "df.drop(['C', 'D'], axis=1)\n",
    "  \n",
    "# df.drop(columns =['C', 'D'])\n"
   ]
  },
  {
   "cell_type": "markdown",
   "metadata": {},
   "source": []
  }
 ],
 "metadata": {
  "kernelspec": {
   "display_name": "Python 3",
   "language": "python",
   "name": "python3"
  },
  "language_info": {
   "codemirror_mode": {
    "name": "ipython",
    "version": 3
   },
   "file_extension": ".py",
   "mimetype": "text/x-python",
   "name": "python",
   "nbconvert_exporter": "python",
   "pygments_lexer": "ipython3",
   "version": "3.10.5"
  },
  "orig_nbformat": 4
 },
 "nbformat": 4,
 "nbformat_minor": 2
}
