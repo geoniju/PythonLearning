{
 "cells": [
  {
   "cell_type": "markdown",
   "metadata": {},
   "source": [
    "##   Wrangle report"
   ]
  },
  {
   "cell_type": "markdown",
   "metadata": {},
   "source": [
    "#### By Geo Niju Shanth G"
   ]
  },
  {
   "cell_type": "markdown",
   "metadata": {},
   "source": [
    "In this data wrangling project I have worked with three different source of data. It was very challenging but finally able to achieve what I wanted. We have one file which is provided by udacity as csv file other source one is from a http link and the other through twitter API. Twitter API was really interesting where in we can analyse the data on a real time basis. In the case of this project we have pulled the data for corresponding tweet ids. Once the data from the three different sources are available the challenge was to clean the data for analysis. It was interesting to do the cleaning process and once the data is cleaned the it made lot of sense. Quality issues and Tidyness were identified and cleaned as appropriate. Finally came up with few questions and the insights helped me to answer the questions. Visualizations were also created to understand the nature of the data."
   ]
  },
  {
   "cell_type": "code",
   "execution_count": null,
   "metadata": {},
   "outputs": [],
   "source": []
  }
 ],
 "metadata": {
  "kernelspec": {
   "display_name": "Python [conda env:anaconda3]",
   "language": "python",
   "name": "conda-env-anaconda3-py"
  },
  "language_info": {
   "codemirror_mode": {
    "name": "ipython",
    "version": 3
   },
   "file_extension": ".py",
   "mimetype": "text/x-python",
   "name": "python",
   "nbconvert_exporter": "python",
   "pygments_lexer": "ipython3",
   "version": "3.6.4"
  }
 },
 "nbformat": 4,
 "nbformat_minor": 2
}
